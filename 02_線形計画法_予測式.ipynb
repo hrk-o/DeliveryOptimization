{
 "cells": [
  {
   "cell_type": "code",
   "execution_count": 1,
   "metadata": {},
   "outputs": [
    {
     "name": "stdout",
     "output_type": "stream",
     "text": [
      "予測されたtime: 3882.802854879523\n"
     ]
    }
   ],
   "source": [
    "import numpy as np\n",
    "from sklearn.linear_model import LinearRegression\n",
    "\n",
    "# データを準備\n",
    "school_data = np.array([11, 12, 13, 14, 15, 16]).reshape(-1, 1)  # schoolのデータを2次元配列に変換\n",
    "time_data = np.array([3.175107002, 18.48734903, 47.05434394, 138.9158778, 880.5179119, 3447.273826])\n",
    "\n",
    "# 線形回帰モデルを訓練\n",
    "model = LinearRegression()\n",
    "model.fit(school_data, time_data)\n",
    "\n",
    "# schoolが19の場合のtimeを予測\n",
    "school_to_predict = np.array([19]).reshape(-1, 1)  # 予測するschoolの値\n",
    "predicted_time = model.predict(school_to_predict)\n",
    "\n",
    "print(\"予測されたtime:\", predicted_time[0])\n"
   ]
  },
  {
   "cell_type": "code",
   "execution_count": 3,
   "metadata": {},
   "outputs": [
    {
     "name": "stdout",
     "output_type": "stream",
     "text": [
      "予測されたtime: 25385.826100037084\n"
     ]
    }
   ],
   "source": [
    "import numpy as np\n",
    "from sklearn.preprocessing import PolynomialFeatures\n",
    "from sklearn.linear_model import LinearRegression\n",
    "\n",
    "# データを準備\n",
    "school_data = np.array([11, 12, 13, 14, 15, 16]).reshape(-1, 1)  # schoolのデータを2次元配列に変換\n",
    "time_data = np.array([3.175107002, 18.48734903, 47.05434394, 138.9158778, 880.5179119, 3447.273826])\n",
    "\n",
    "# 多項式特徴量を追加\n",
    "poly = PolynomialFeatures(degree=3)  # 2次の多項式\n",
    "school_data_poly = poly.fit_transform(school_data)\n",
    "\n",
    "# 多項式回帰モデルを訓練\n",
    "model = LinearRegression()\n",
    "model.fit(school_data_poly, time_data)\n",
    "\n",
    "# schoolが19の場合のtimeを予測\n",
    "school_to_predict = np.array([[19]])  # 予測するschoolの値\n",
    "school_to_predict_poly = poly.transform(school_to_predict)\n",
    "predicted_time = model.predict(school_to_predict_poly)\n",
    "\n",
    "print(\"予測されたtime:\", predicted_time[0])\n"
   ]
  },
  {
   "cell_type": "code",
   "execution_count": null,
   "metadata": {},
   "outputs": [],
   "source": []
  }
 ],
 "metadata": {
  "kernelspec": {
   "display_name": "Python 3",
   "language": "python",
   "name": "python3"
  },
  "language_info": {
   "codemirror_mode": {
    "name": "ipython",
    "version": 3
   },
   "file_extension": ".py",
   "mimetype": "text/x-python",
   "name": "python",
   "nbconvert_exporter": "python",
   "pygments_lexer": "ipython3",
   "version": "3.8.5"
  },
  "orig_nbformat": 4
 },
 "nbformat": 4,
 "nbformat_minor": 2
}
